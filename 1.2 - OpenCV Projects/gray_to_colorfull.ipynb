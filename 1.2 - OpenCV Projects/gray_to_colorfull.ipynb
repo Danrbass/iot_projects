{
 "cells": [
  {
   "cell_type": "code",
   "execution_count": 3,
   "id": "e77c001d",
   "metadata": {},
   "outputs": [],
   "source": [
    "import numpy as np\n",
    "import cv2 as cv"
   ]
  },
  {
   "cell_type": "code",
   "execution_count": null,
   "id": "1f638fd5",
   "metadata": {},
   "outputs": [],
   "source": [
    "\n",
    "# Carregar o modelo\n",
    "net = cv.dnn.readNetFromCaffe(\n",
    "    'colorization_deploy_v2.prototxt',\n",
    "    'colorization_release_v2.caffemodel'\n",
    ")\n",
    "\n",
    "pts = np.load('pts_in_hull.npy')\n",
    "\n",
    "# Camada de ab (cores)\n",
    "class8 = net.getLayerId(\"class8_ab\")\n",
    "conv8 = net.getLayerId(\"conv8_313_rh\")\n",
    "pts = pts.transpose().reshape(2, 313, 1, 1)\n",
    "\n",
    "net.getLayer(class8).blobs = [pts.astype(np.float32)]\n",
    "net.getLayer(conv8).blobs = [np.full([1, 313], 2.606, dtype=\"float32\")]\n",
    "\n",
    "# Carregar imagem em P&B\n",
    "frame = cv.imread('images/oldphot_saopaulo.jpeg')\n",
    "gray = cv.cvtColor(frame, cv.COLOR_BGR2GRAY)\n",
    "gray = cv.cvtColor(gray, cv.COLOR_GRAY2RGB)\n",
    "\n",
    "h, w = gray.shape[:2]\n",
    "img_rs = cv.resize(gray, (224, 224))\n",
    "img_lab = cv.cvtColor(img_rs, cv.COLOR_RGB2Lab)\n",
    "l = img_lab[:, :, 0]\n",
    "\n",
    "l -= 50  # Normalização para o modelo\n",
    "\n",
    "net.setInput(cv.dnn.blobFromImage(l))\n",
    "ab = net.forward()[0, :, :, :].transpose((1, 2, 0))\n",
    "ab = cv.resize(ab, (w, h))\n",
    "\n",
    "L = cv.cvtColor(frame, cv.COLOR_BGR2Lab)[:, :, 0]\n",
    "colorized = np.concatenate((L[:, :, np.newaxis], ab), axis=2)\n",
    "colorized = cv.cvtColor(colorized.astype(np.uint8), cv.COLOR_Lab2BGR)\n",
    "\n",
    "# Mostrar o resultado\n",
    "cv.imshow(\"Colorized\", colorized)\n",
    "cv.waitKey(0)\n",
    "cv.destroyAllWindows()\n"
   ]
  }
 ],
 "metadata": {
  "kernelspec": {
   "display_name": "venv_img",
   "language": "python",
   "name": "python3"
  },
  "language_info": {
   "codemirror_mode": {
    "name": "ipython",
    "version": 3
   },
   "file_extension": ".py",
   "mimetype": "text/x-python",
   "name": "python",
   "nbconvert_exporter": "python",
   "pygments_lexer": "ipython3",
   "version": "3.9.13"
  }
 },
 "nbformat": 4,
 "nbformat_minor": 5
}
